{
 "cells": [
  {
   "cell_type": "markdown",
   "id": "2a996707-88bc-4056-837d-d14fd095f40e",
   "metadata": {},
   "source": [
    "# 实验报告\n",
    "<font size=4>\n",
    "    \n",
    "+ **姓名：于成俊**\n",
    "+ **学号：2112066**\n",
    "+ **专业：密码科学与技术**\n",
    "\n",
    "</font>"
   ]
  },
  {
   "cell_type": "markdown",
   "id": "9acc8708-db20-43ba-8323-6a9bcba6eca4",
   "metadata": {},
   "source": [
    "\n",
    "### **基本要求**\r",
    "采用分层采样的方式将数据集划分为训练集和测试集。 \r",
    "给定编写一个朴素贝叶斯分类器，对测试集进行预测，计算分类准确率。\r",
    "### **中级要求**\n",
    "使用测试集评估模型，得到混淆矩阵，精度，召回率，F值。\r",
    "### **高级要求**\n",
    "在中级要求的基础上画出三类数据的ROC曲线，并求出AUC值。\r",
    "### **拓展要求**\n",
    "浅谈ROC曲线和AUC值作为分类评价的合理性。\r"
   ]
  },
  {
   "cell_type": "markdown",
   "id": "9bef3ed0-e9cf-45b5-b2d3-7f05751aae61",
   "metadata": {},
   "source": [
    "## 实验流程\n",
    "### **基本要求**"
   ]
  },
  {
   "cell_type": "markdown",
   "id": "8f7d4301-b8d8-44ab-ac7e-ca8ee4d680f7",
   "metadata": {},
   "source": [
    "#### **导入相关的包**"
   ]
  },
  {
   "cell_type": "code",
   "execution_count": 106,
   "id": "12ce8626-2d0f-4104-81bc-c0a769e856b5",
   "metadata": {},
   "outputs": [],
   "source": [
    "import pandas as pd\n",
    "import numpy as np\n",
    "# 用于绘制ROC曲线和计算AUC值\n",
    "import matplotlib.pyplot as plt\n",
    "from sklearn.metrics import roc_curve, auc"
   ]
  },
  {
   "cell_type": "markdown",
   "id": "3ca3bd17-8214-40a5-9f67-d8571c8d9f84",
   "metadata": {},
   "source": [
    "#### **导入数据集**"
   ]
  },
  {
   "cell_type": "code",
   "execution_count": 107,
   "id": "1eb211cd-c240-4009-9a6f-2d1673ecc1c1",
   "metadata": {},
   "outputs": [],
   "source": [
    "# 读取数据集\n",
    "data = pd.read_csv(\"wine.data\", header = None)"
   ]
  },
  {
   "cell_type": "markdown",
   "id": "1471957e-f5d5-402c-8903-27d9631aa93e",
   "metadata": {},
   "source": [
    "#### **划分训练集和测试集（分层采样，按3：1比例划分）**"
   ]
  },
  {
   "cell_type": "code",
   "execution_count": 108,
   "id": "0d5e9842-349a-4cde-abd5-75cf44e1e3e9",
   "metadata": {},
   "outputs": [],
   "source": [
    "# 划分训练集和测试集（分层采样）\n",
    "def train_test_split(data, test_ratio = 0.25):\n",
    "    # 提取类别\n",
    "    y = data.iloc[:, 0]\n",
    "    # 提取特征\n",
    "    X = data.iloc[:, 1:]\n",
    "    # 获取类别的唯一值\n",
    "    unique_classes = np.unique(y)   # [1 2 3]\n",
    "    # 初始化训练集和测试集\n",
    "    X_train = pd.DataFrame()\n",
    "    y_train = pd.Series()\n",
    "    X_test = pd.DataFrame()\n",
    "    y_test = pd.Series()\n",
    "    # 对每个类别进行分层采样\n",
    "    for class_label in unique_classes:\n",
    "        # 获取属于当前类别的样本索引\n",
    "        class_indices = np.where(y == class_label)[0]\n",
    "\n",
    "        # 随机打乱当前类别的样本索引顺序\n",
    "        np.random.shuffle(class_indices)\n",
    "\n",
    "        # 计算当前类别的样本数量\n",
    "        num_samples = len(class_indices)\n",
    "\n",
    "        # 计算训练集和测试集中当前类别的样本数量\n",
    "        num_train_samples = int((1 - test_ratio) * num_samples)\n",
    "\n",
    "        # 对当前类别进行随机分层采样\n",
    "        train_indices = class_indices[:num_train_samples]\n",
    "        test_indices = class_indices[num_train_samples:]\n",
    "\n",
    "        # 将分层采样得到的样本添加到训练集和测试集中\n",
    "        X_train = pd.concat([X_train, X.loc[train_indices]])\n",
    "        y_train = pd.concat([y_train, y.loc[train_indices]])\n",
    "        X_test = pd.concat([X_test, X.loc[test_indices]])\n",
    "        y_test = pd.concat([y_test, y.loc[test_indices]])\n",
    "\n",
    "    # 重置索引，确保索引是连续的\n",
    "    X_train = X_train.reset_index(drop=True)\n",
    "    y_train = y_train.reset_index(drop=True)\n",
    "    X_test = X_test.reset_index(drop=True)\n",
    "    y_test = y_test.reset_index(drop=True)\n",
    "\n",
    "\n",
    "    return X_train, y_train.values.reshape(-1, 1), X_test, y_test.values.reshape(-1, 1)"
   ]
  },
  {
   "cell_type": "code",
   "execution_count": 109,
   "id": "92c9a392-ea59-4393-ba08-4a76e5c73689",
   "metadata": {},
   "outputs": [],
   "source": [
    "# 划分训练集和测试集\n",
    "X_train, y_train, X_test, y_test = train_test_split(data)"
   ]
  },
  {
   "cell_type": "markdown",
   "id": "2647f52a-078c-45c0-a321-04afb456d7d8",
   "metadata": {},
   "source": [
    "#### **计算每个类别的先验概率**"
   ]
  },
  {
   "cell_type": "code",
   "execution_count": 110,
   "id": "9fc60396-3246-4b67-b89b-da79f1730cf4",
   "metadata": {},
   "outputs": [],
   "source": [
    "# 计算每个类别的先验概率\n",
    "def calculate_prior_probabilities(y):\n",
    "    # 计算不同类别的唯一值和它们的出现次数\n",
    "    # np.unique函数返回两个数组,unique_classes包含所有不同的类别，class_counts包含每个类别出现的次数。\n",
    "    unique_classes, class_counts = np.unique(y, return_counts=True)\n",
    "    # 计算样本类别的总数量\n",
    "    total_samples = len(y)\n",
    "    # 计算了每个类别的先验概率\n",
    "    prior_probabilities = class_counts / total_samples\n",
    "\n",
    "    return unique_classes, prior_probabilities"
   ]
  },
  {
   "cell_type": "code",
   "execution_count": 111,
   "id": "86085dfe-c738-4990-ac4e-44e4f689e55b",
   "metadata": {},
   "outputs": [],
   "source": [
    "#unique_classes是数据集中所有类别的唯一值，prior_probabilities是每个类别的先验概率\n",
    "unique_classes, prior_probabilities = calculate_prior_probabilities(y_train)"
   ]
  },
  {
   "cell_type": "markdown",
   "id": "77d8d25d-d881-4fba-89c7-76de7fba344a",
   "metadata": {},
   "source": [
    "#### **求每个特征在给定类别下的均值和标准差**"
   ]
  },
  {
   "cell_type": "code",
   "execution_count": 112,
   "id": "587ba66d-e155-4bf3-b8ea-e89609eefc9d",
   "metadata": {},
   "outputs": [],
   "source": [
    "# 计算每个特征在给定类别下的均值和标准差\n",
    "def calculate_feature_statistics(X, y, class_value):\n",
    "    # 使用布尔索引从特征矩阵 X 中选择与指定类别值 class_value 相对应的样本\n",
    "    class_features = X[y == class_value]\n",
    "    # 计算了每个特征在给定类别下的均值(每列计算平均值)\n",
    "    means = np.mean(class_features, axis=0)\n",
    "    # 计算了每个特征在给定类别下的标准差(每列计算标准差)\n",
    "    stds = np.std(class_features, axis=0)\n",
    "\n",
    "    return means, stds"
   ]
  },
  {
   "cell_type": "markdown",
   "id": "7947c28b-f30a-49b8-afc1-a12b24d10d41",
   "metadata": {},
   "source": [
    "#### **下面的class_statistics是一个三维数组[3,2,13]。3代表3个类别，2代表均值和标准差，13代表13个特征**"
   ]
  },
  {
   "cell_type": "code",
   "execution_count": 113,
   "id": "1ea457b4-7f4d-4b62-b51b-9f7a5ee9ce57",
   "metadata": {},
   "outputs": [],
   "source": [
    "# 获取每个特征在给定类别下的均值和标准差\n",
    "class_statistics = [calculate_feature_statistics(X_train, y_train, class_value) for class_value in\n",
    "                        unique_classes]\n",
    "# 转化为np数组\n",
    "class_statistics = np.array(class_statistics)"
   ]
  },
  {
   "cell_type": "markdown",
   "id": "f62f58cf-c09a-4ae1-a1c0-73d3a75eec47",
   "metadata": {},
   "source": [
    "#### **接下来用测试集来测试模型**"
   ]
  },
  {
   "cell_type": "markdown",
   "id": "44b07100-5d96-4092-bcf2-0024bef01fbd",
   "metadata": {},
   "source": [
    "#### **首先定义pdf函数**"
   ]
  },
  {
   "cell_type": "code",
   "execution_count": 114,
   "id": "e71f8c01-f371-4595-aea7-75104dd781b7",
   "metadata": {},
   "outputs": [],
   "source": [
    "# 计算高斯分布的概率密度函数\n",
    "def pdf(x, mean, std):\n",
    "    '''\n",
    "\n",
    "    :param x: 特征值\n",
    "    :param mean: 均值\n",
    "    :param std: 标准差\n",
    "    :return: 概率密度值\n",
    "    '''\n",
    "    coefficient = 1.0 / (std * np.sqrt(2 * np.pi))\n",
    "    exponent = -((x - mean) ** 2) / (2 * std ** 2)\n",
    "    return coefficient * np.exp(exponent)"
   ]
  },
  {
   "cell_type": "markdown",
   "id": "2798aa6b-fc78-4296-8218-97c70f87ffc2",
   "metadata": {},
   "source": [
    "#### **预测单个样本的类别。其中概率采用对数的形式，防止概率太小出现下溢**"
   ]
  },
  {
   "cell_type": "code",
   "execution_count": 115,
   "id": "2cd3d8aa-c690-4795-8eac-4629d191c46a",
   "metadata": {},
   "outputs": [],
   "source": [
    "# 预测单个样本的类别\n",
    "def predict_sample(sample, unique_classes, prior_probabilities, class_statistics):\n",
    "    # 将sample转化为np数组,便于操作\n",
    "    sample = sample.values.reshape(-1, 1)\n",
    "    # 用于存储每个类别的概率。\n",
    "    class_probabilities = []\n",
    "    for i, class_value in enumerate(unique_classes):\n",
    "        # 将概率取对数，防止因概率太小出现下溢\n",
    "        class_probability = np.log(prior_probabilities[i])\n",
    "        # 获取均值和方差\n",
    "        mean = class_statistics[i][0]\n",
    "        std = class_statistics[i][1]\n",
    "        mean = mean.reshape(-1, 1)\n",
    "        std = std.reshape(-1, 1)\n",
    "        for j in range(class_statistics[i].shape[1]):\n",
    "            # 将概率取对数，防止因概率太小出现下溢\n",
    "            # 因为取了对数，所以是相加而不是相乘\n",
    "            class_probability += np.log(pdf(sample[j], mean[j], std[j]))\n",
    "        class_probabilities.append(class_probability.item())\n",
    "    predicted_class = unique_classes[np.argmax(class_probabilities)]\n",
    "    return predicted_class, class_probabilities"
   ]
  },
  {
   "cell_type": "markdown",
   "id": "f4ce2ff8-4691-4845-a214-f81f37049ed3",
   "metadata": {},
   "source": [
    "#### **通过调用predict_sample函数，来预测整个测试集**"
   ]
  },
  {
   "cell_type": "code",
   "execution_count": 116,
   "id": "679d62b0-54e7-49fb-855a-911525b28d3c",
   "metadata": {},
   "outputs": [],
   "source": [
    "# 预测测试集\n",
    "def predict_test_set(X_test, unique_classes, prior_probabilities, class_statistics):\n",
    "    predictions = []  # 预测的类别\n",
    "    class_probabilities = []   # 每个样本预测每个类别的概率\n",
    "    for i in range(len(X_test)):\n",
    "        # 预测单个样本\n",
    "        prediction, class_probabilitie = predict_sample(X_test.iloc[i, :], unique_classes, prior_probabilities, class_statistics)\n",
    "        predictions.append(prediction)\n",
    "        class_probabilities.append(class_probabilitie)\n",
    "    predictions = np.array(predictions).reshape(-1, 1)\n",
    "    class_probabilities = np.array(class_probabilities)\n",
    "    return predictions, class_probabilities"
   ]
  },
  {
   "cell_type": "code",
   "execution_count": 117,
   "id": "fd6c5583-2486-4f46-9485-5fbd5004acc5",
   "metadata": {},
   "outputs": [],
   "source": [
    "# 预测测试集\n",
    "test_predictions, class_probabilities = predict_test_set(X_test, unique_classes, prior_probabilities, class_statistics)"
   ]
  },
  {
   "cell_type": "markdown",
   "id": "ddafb15f-d6ac-4bb6-9a30-f79003f01183",
   "metadata": {},
   "source": [
    "#### **计算分类准确率**"
   ]
  },
  {
   "cell_type": "code",
   "execution_count": 118,
   "id": "11cad806-4c0d-4c3d-a123-3ff3df9b16ff",
   "metadata": {},
   "outputs": [],
   "source": [
    "# 计算分类准确率\n",
    "def calculate_accuracy(predictions, true_labels):\n",
    "    # 计算与真实类别相等的数量\n",
    "    correct_predictions = np.sum(predictions == true_labels)\n",
    "    accuracy = correct_predictions / len(true_labels)\n",
    "    return accuracy"
   ]
  },
  {
   "cell_type": "code",
   "execution_count": 119,
   "id": "ec545d10-233f-4dfc-81f4-ed9e7907c511",
   "metadata": {},
   "outputs": [
    {
     "name": "stdout",
     "output_type": "stream",
     "text": [
      "分类准确率: 97.78%\n"
     ]
    }
   ],
   "source": [
    "# 计算分类准确率\n",
    "accuracy = calculate_accuracy(test_predictions, y_test)\n",
    "print(f\"分类准确率: {accuracy * 100:.2f}%\")"
   ]
  },
  {
   "cell_type": "markdown",
   "id": "8e0b999c-09a9-4407-9ff5-f928d86fefa2",
   "metadata": {},
   "source": [
    "### **中级要求**"
   ]
  },
  {
   "cell_type": "markdown",
   "id": "f588a4f2-52cb-48e4-b6fb-9e7d92120fd9",
   "metadata": {},
   "source": [
    "#### **使用测试集评估模型，得到混淆矩阵，精度，召回率，F值。**"
   ]
  },
  {
   "cell_type": "code",
   "execution_count": 120,
   "id": "63f01425-a4bd-479d-bbf4-62c792481c50",
   "metadata": {},
   "outputs": [],
   "source": [
    "# 定义混淆矩阵函数\n",
    "def confusion_matrix(y_true, y_pred, unique_classes):\n",
    "    '''\n",
    "    :param y_true:  正确的类别\n",
    "    :param y_pred:  预测的类别\n",
    "    :param unique_classes:  所有类别\n",
    "    :return:  混淆矩阵\n",
    "    '''\n",
    "    # 类别数量\n",
    "    num_classes = len(unique_classes)\n",
    "    # 初始化矩阵，用于存储混淆矩阵的值\n",
    "    matrix = np.zeros((num_classes, num_classes), dtype=int)\n",
    "    for i in range(num_classes):\n",
    "        for j in range(num_classes):\n",
    "            matrix[i][j] = np.sum((y_true == unique_classes[i]) & (y_pred == unique_classes[j]))\n",
    "    return matrix"
   ]
  },
  {
   "cell_type": "code",
   "execution_count": 121,
   "id": "f529440a-3172-40ef-97bd-b22cc7292fea",
   "metadata": {},
   "outputs": [],
   "source": [
    "# 定义计算精度、召回率和F1值的函数\n",
    "def evaluate(y_true, y_pred, unique_classes):\n",
    "    # 混淆矩阵\n",
    "    cm = confusion_matrix(y_true, y_pred, unique_classes)\n",
    "    # 计算分类模型的每个类别的精确度。\n",
    "    # 精确度是在混淆矩阵中，每个类别的对角元素除以该类别的总预测数\n",
    "    precision = np.diag(cm) / np.sum(cm, axis=1)\n",
    "    # 计算分类模型的每个类别的召回率。\n",
    "    # 召回率是在混淆矩阵中，每个类别的对角元素除以该类别的总真实数\n",
    "    recall = np.diag(cm) / np.sum(cm, axis=0)\n",
    "    # 计算分类模型的每个类别的F1值。F1值是精确度和召回率的调和平均值，用于综合评估模型的性能。\n",
    "    f1 = 2 * (precision * recall) / (precision + recall)\n",
    "    return precision, recall, f1"
   ]
  },
  {
   "cell_type": "code",
   "execution_count": 122,
   "id": "4e066ed5-b7b3-4d46-aaf6-3258a425534a",
   "metadata": {},
   "outputs": [
    {
     "name": "stdout",
     "output_type": "stream",
     "text": [
      "Confusion Matrix:\n",
      "[[15  0  0]\n",
      " [ 0 17  1]\n",
      " [ 0  0 12]]\n",
      "Accuracy: 0.9777777777777777\n",
      "Precision: [1.         0.94444444 1.        ]\n",
      "Recall: [1.         1.         0.92307692]\n",
      "F1 Score: [1.         0.97142857 0.96      ]\n"
     ]
    }
   ],
   "source": [
    "# 评估模型\n",
    "precision, recall, f1 = evaluate(y_test, test_predictions, unique_classes)\n",
    "print(\"Confusion Matrix:\")\n",
    "print(confusion_matrix(y_test, test_predictions, unique_classes))\n",
    "print(\"Accuracy:\", accuracy)\n",
    "print(\"Precision:\", precision)\n",
    "print(\"Recall:\", recall)\n",
    "print(\"F1 Score:\", f1)"
   ]
  },
  {
   "cell_type": "markdown",
   "id": "642480e9-4e3a-46cc-aecd-4f8c8ddc5714",
   "metadata": {},
   "source": [
    "### **高级要求**"
   ]
  },
  {
   "cell_type": "markdown",
   "id": "6511de40-912c-49af-8d52-b84409151d33",
   "metadata": {},
   "source": [
    "#### **画出每个类别的ROC曲线，并求出AUC值。**"
   ]
  },
  {
   "cell_type": "code",
   "execution_count": 123,
   "id": "541b4250-3509-415c-98f2-15e495cc0fd2",
   "metadata": {},
   "outputs": [],
   "source": [
    "# 绘制ROC曲线并求出AUC值\n",
    "def ROC_AUC(y_true, class_probabilities, unique_classes):\n",
    "    # 为每个类别计算ROC曲线和AUC值\n",
    "    plt.figure(figsize=(10, 8))\n",
    "    for i in range(len(unique_classes)):\n",
    "        # 为每个类别创建ROC曲线\n",
    "        fpr, tpr, thresholds = roc_curve((y_true == unique_classes[i]).astype(int), class_probabilities[:, i], pos_label=1)\n",
    "        # 计算AUC值\n",
    "        roc_auc = auc(fpr, tpr)\n",
    "        # 绘制ROC曲线\n",
    "        plt.plot(fpr, tpr, label=f'Class {unique_classes[i]} (AUC = {roc_auc:.2f})')\n",
    "\n",
    "    plt.plot([0, 1], [0, 1], linestyle='--', color='gray', label='Random')\n",
    "    plt.xlabel('False Positive Rate')\n",
    "    plt.ylabel('True Positive Rate')\n",
    "    plt.title('ROC Curve for Each Class')\n",
    "    plt.legend()\n",
    "    plt.show()"
   ]
  },
  {
   "cell_type": "code",
   "execution_count": 124,
   "id": "dfe3fa86-8b43-452c-a40d-0f0de44eea55",
   "metadata": {},
   "outputs": [
    {
     "data": {
      "image/png": "[encoded data removed]",
      "text/plain": [
       "<Figure size 1000x800 with 1 Axes>"
      ]
     },
     "metadata": {},
     "output_type": "display_data"
    }
   ],
   "source": [
    "ROC_AUC(y_test,  class_probabilities, unique_classes)"
   ]
  },
  {
   "cell_type": "markdown",
   "id": "900154be-c41a-4a86-8d7e-54269cf14012",
   "metadata": {},
   "source": [
    "### **可以看出AUC的值都较大。这与测试集较小有关系。若把训练集和测试集的比例调为1：1，则AUC的值会变小，且曲线也会有更多阶梯**"
   ]
  },
  {
   "cell_type": "markdown",
   "id": "66914638-4203-45fd-ac57-05e1a6068d2b",
   "metadata": {},
   "source": [
    "### **拓展要求**"
   ]
  },
  {
   "cell_type": "markdown",
   "id": "6d93bc5d-9be2-4a2a-8c06-818970dc86ff",
   "metadata": {},
   "source": [
    "<font size=3>\n",
    "    \n",
    "ROC曲线和AUC值是常用于评价分类模型性能的指标，尤其适用于二分类问题。以下是它们作为分类评价指标的合理性的浅谈：\n",
    "\n",
    "一、ROC曲线的合理性：\n",
    "\n",
    "①不受类别不平衡影响： ROC曲线对于类别不平衡的数据集具有鲁棒性。在类别不平衡的情况下，某些指标（如精度）可能不够敏感，而ROC曲线能够更全面地反映模型在正负类别上的表现。\n",
    "\n",
    "②可视化分类器性能： ROC曲线提供了一种直观的方式来可视化分类器在不同阈值下的性能表现。曲线越靠近左上角，说明模型的性能越好。\n",
    "\n",
    "③对阈值敏感度的分析： ROC曲线帮助理解分类器在不同阈值下的表现，从而更好地理解模型在不同工作点上的权衡。\n",
    "\n",
    "二、AUC值的合理性：\n",
    "\n",
    "①单一数值概括性能： AUC值提供了一个单一的数值，用于总结ROC曲线下的整体性能。这有助于简化模型比较和选择的过程。\n",
    "\n",
    "②类别不平衡下的稳健性： AUC值对于类别不平衡数据集更为稳健，不会受到数据集中正负样本比例的影响。\n",
    "\n",
    "③随机模型的比较基准： AUC值为随机猜测的模型提供了基准值0.5，因此AUC值越接近1，模型性能越好。\n",
    "\n",
    "三、注意事项：\n",
    "\n",
    "①对于多类别问题的变体： 对于多类别问题，ROC曲线和AUC值的使用可能需要结合多类别的评估方法，如微平均和宏平均。\n",
    "\n",
    "②对业务问题的理解： 评价指标的选择应该基于具体业务问题和对模型性能的关注点。ROC曲线和AUC值适用于某些情境，但并非对所有问题都是最合适的。\n",
    "\n",
    "综合而言，ROC曲线和AUC值是分类器性能评价的有力工具，尤其适用于二分类问题，但在使用时仍需结合具体的业务场景和问题要求。\n",
    "\n",
    "</font>"
   ]
  },
  {
   "cell_type": "code",
   "execution_count": null,
   "id": "cb2277dc-dd58-40dc-9faf-86cd78ed5060",
   "metadata": {},
   "outputs": [],
   "source": []
  }
 ],
 "metadata": {
  "kernelspec": {
   "display_name": "Python 3 (ipykernel)",
   "language": "python",
   "name": "python3"
  },
  "language_info": {
   "codemirror_mode": {
    "name": "ipython",
    "version": 3
   },
   "file_extension": ".py",
   "mimetype": "text/x-python",
   "name": "python",
   "nbconvert_exporter": "python",
   "pygments_lexer": "ipython3",
   "version": "3.10.10"
  }
 },
 "nbformat": 4,
 "nbformat_minor": 5
}
