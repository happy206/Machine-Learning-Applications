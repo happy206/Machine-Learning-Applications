{
 "cells": [
  {
   "cell_type": "markdown",
   "id": "782402c5-5674-49a2-a3c4-6f6b4a183aba",
   "metadata": {},
   "source": [
    "# 实验报告\n",
    "<font size=4>\n",
    "    \n",
    "+ **姓名：于成俊**\n",
    "+ **学号：2112066**\n",
    "+ **专业：密码科学与技术**\n",
    "\n",
    "</font>"
   ]
  },
  {
   "cell_type": "markdown",
   "id": "a50a966e-f23e-436a-a281-db7ee2c9319d",
   "metadata": {},
   "source": [
    "## 实验要求\n",
    "\n",
    "<font size=4>\n",
    "题目：基于KNN 的手写数字识别\n",
    "    \n",
    "实验条件：给定semeion手写数字数据集，给定kNN分类算法\n",
    "    \n",
    "1. 基本要求：编程实现kNN算法；给出在不同k值（1，3，5）情况下，kNN算法对手写数字的识别精度（要求采用留一法）\n",
    "2. 中级要求：与sklearn机器学习包中的kNN分类结果进行对比\n",
    "3. 提高要求：采用旋转等手段对原始数据进行处理，扩增数据量，采用CNN或其他深度学习方法实现手写体识别)\n",
    "</font>\n",
    "\n",
    "\n",
    "\n"
   ]
  },
  {
   "cell_type": "markdown",
   "id": "784b30b0-193e-4372-ac0e-c9cac8b99f55",
   "metadata": {},
   "source": [
    "## 导入需要的包"
   ]
  },
  {
   "cell_type": "code",
   "execution_count": 1,
   "id": "faed722f-67e6-4774-a78e-cdf6951d5c5e",
   "metadata": {},
   "outputs": [],
   "source": [
    "import numpy as np\n",
    "from sklearn.neighbors import KNeighborsClassifier\n",
    "from sklearn.model_selection import LeaveOneOut, train_test_split\n",
    "from sklearn.metrics import accuracy_score\n",
    "from keras.utils import to_categorical\n",
    "from keras.preprocessing.image import ImageDataGenerator\n",
    "from keras.models import Sequential\n",
    "from keras.layers import Conv2D, MaxPooling2D, Flatten, Dense\n",
    "from keras.optimizers import Adam"
   ]
  },
  {
   "cell_type": "markdown",
   "id": "5d1c914a-558c-4f7a-9e29-7e86cbec2a93",
   "metadata": {},
   "source": [
    "## 处理数据"
   ]
  },
  {
   "cell_type": "markdown",
   "id": "74ac03ea-74fd-4b9b-9149-a82ec849c644",
   "metadata": {},
   "source": [
    "<font size=4>\n",
    "将数据集 semesion 处理成二维的np数组，并将 one-hot 编码转换成对应的数字\n",
    "</font>"
   ]
  },
  {
   "cell_type": "code",
   "execution_count": 2,
   "id": "cbbcabc4-6e72-4111-9cbe-f8b661cde768",
   "metadata": {},
   "outputs": [],
   "source": [
    "# 处理数据\n",
    "def process_data(filename):\n",
    "    data_table = np.zeros((0, 257)) \n",
    "    with open(filename, 'r') as file:\n",
    "        while True:\n",
    "            line = file.readline()\n",
    "            if len(line) == 0:\n",
    "                break\n",
    "            data = line.split()\n",
    "            count = -1\n",
    "            num = -1\n",
    "            row = np.zeros((1, 257))\n",
    "            for cursor in data:\n",
    "                if count == 255:\n",
    "                    num += 1\n",
    "                    if cursor == '1':\n",
    "                        row[0, 256] = num\n",
    "                else:\n",
    "                    count += 1\n",
    "                    row[0, count] = cursor\n",
    "            data_table = np.append(data_table, row, axis=0)\n",
    "    return data_table"
   ]
  },
  {
   "cell_type": "markdown",
   "id": "1cd2a298-537c-4324-87d7-bd4e405cfec9",
   "metadata": {},
   "source": [
    "## 基本要求"
   ]
  },
  {
   "cell_type": "markdown",
   "id": "07590474-3691-4adf-bcf1-58f0f21367af",
   "metadata": {},
   "source": [
    "<font size=4>\n",
    "编程实现kNN算法；给出在不同k值（1，3，5）情况下，kNN算法对手写数字的识别精度（要求采用留一法）\n",
    "</font>"
   ]
  },
  {
   "cell_type": "code",
   "execution_count": 3,
   "id": "7d31a735-ab43-412a-beb1-4d0858efc5a0",
   "metadata": {},
   "outputs": [],
   "source": [
    "# 计算欧几里得距离\n",
    "def euclidean_distance(x1, x2):\n",
    "    return np.sqrt(np.sum((x1 - x2) ** 2)) # 向量之间的操作\n",
    "\n",
    "# 手动实现KNN算法\n",
    "def knn(test_features, k, train_features, train_label):\n",
    "    distances = []\n",
    "    for i in range(len(train_features)):\n",
    "        distance = euclidean_distance(train_features[i], test_features)\n",
    "        distances.append((distance, train_label[i]))\n",
    "    distances.sort(key=lambda x:x[0])  # 根据距离排序\n",
    "    neighbors = distances[:k]          # 取前k个近邻\n",
    "    counts = {}\n",
    "    for neighbor in neighbors:\n",
    "        counts[neighbor[1]] = counts.get(neighbor[1], 0) + 1\n",
    "    return max(counts, key=counts.get)\n",
    "\n",
    "# 留一法\n",
    "def leave_one_out(data_table):\n",
    "    k_values = [1, 3, 5]\n",
    "    # 提取特征（前255列）和标签（最后一列）\n",
    "    features = data_table[:, :256]     # 特征\n",
    "    label = data_table[:, 256]         # 标签\n",
    "    for k in k_values:\n",
    "        correct_predictions = 0\n",
    "        for i in range(len(features)):\n",
    "            train_features = np.concatenate((features[:i], features[i + 1:]), axis=0)\n",
    "            train_labels = np.concatenate((label[:i], label[i + 1:]), axis=0)\n",
    "            result = knn(features[i], k, train_features, train_labels)\n",
    "            a = label[i]\n",
    "            if result == label[i]:\n",
    "                correct_predictions += 1\n",
    "        accuracy = correct_predictions / len(features)\n",
    "        print(f\" k={k}, accuracy: {accuracy}\")"
   ]
  },
  {
   "cell_type": "markdown",
   "id": "19c86edb-a627-42e6-aed0-0ab6d66c5ef5",
   "metadata": {},
   "source": [
    "<font size=4>\n",
    "实验结果：\n",
    "</font>"
   ]
  },
  {
   "cell_type": "code",
   "execution_count": 4,
   "id": "c8dfa10e-be8e-496b-bdf2-b0d4fea7886b",
   "metadata": {},
   "outputs": [
    {
     "name": "stdout",
     "output_type": "stream",
     "text": [
      " k=1, accuracy: 0.9171374764595104\n",
      " k=3, accuracy: 0.9165097300690521\n",
      " k=5, accuracy: 0.9139987445072191\n"
     ]
    }
   ],
   "source": [
    "data_table = process_data(\"semeion.data\")\n",
    "leave_one_out(data_table)"
   ]
  },
  {
   "cell_type": "markdown",
   "id": "6cfde1d2-dd2e-4d13-9145-b769836eafd9",
   "metadata": {},
   "source": [
    "## 中级要求"
   ]
  },
  {
   "cell_type": "markdown",
   "id": "595b2e33-8f50-4001-9d9b-86c4fafd5f1d",
   "metadata": {},
   "source": [
    "<font size=4>\n",
    "与sklearn机器学习包中的kNN分类结果进行对比\n",
    "</font>"
   ]
  },
  {
   "cell_type": "code",
   "execution_count": 5,
   "id": "dfd7a93f-1797-4934-87f3-df5c2f9cc4b6",
   "metadata": {},
   "outputs": [],
   "source": [
    "# 运用sklearn包实现knn算法\n",
    "def sklearn_knn(data_table):\n",
    "    # 提取特征（前255列）和标签（最后一列）\n",
    "    X = data_table[:, :256]     # 特征\n",
    "    y = data_table[:, 256]      # 标签\n",
    "    k_values = [1, 3, 5]\n",
    "    for k in k_values:\n",
    "        # 创建 KNN 分类器，设置邻居数量为 k\n",
    "        knn = KNeighborsClassifier(n_neighbors=k)\n",
    "        # 使用留一法进行交叉验证，并计算模型在每次验证中的准确率\n",
    "        loo = LeaveOneOut()\n",
    "        accuracies = []\n",
    "        for train_index, test_index in loo.split(X):\n",
    "            X_train, X_test = X[train_index], X[test_index]\n",
    "            y_train, y_test = y[train_index], y[test_index]\n",
    "            knn.fit(X_train, y_train)  # 使用训练集训练 KNN 分类器\n",
    "            y_pred = knn.predict(X_test)  # 使用训练好的模型对测试集进行预测\n",
    "            accuracy = accuracy_score(y_test, y_pred)\n",
    "            accuracies.append(accuracy)\n",
    "        mean_accuracy = np.mean(accuracies)  # 计算平均准确率\n",
    "        print(f\" k={k}, accuracy: {mean_accuracy}\")  # 输出平均准确率"
   ]
  },
  {
   "cell_type": "markdown",
   "id": "2db46ca1-ccac-4b3b-bb3a-a83e86f74e2c",
   "metadata": {},
   "source": [
    "<font size=4>\n",
    "实验结果：\n",
    "</font>"
   ]
  },
  {
   "cell_type": "code",
   "execution_count": 6,
   "id": "052df557-bd81-4da6-85e9-29d7558b0ac9",
   "metadata": {},
   "outputs": [
    {
     "name": "stdout",
     "output_type": "stream",
     "text": [
      " k=1, accuracy: 0.9171374764595104\n",
      " k=3, accuracy: 0.903954802259887\n",
      " k=5, accuracy: 0.9052102950408035\n"
     ]
    }
   ],
   "source": [
    "sklearn_knn(data_table)"
   ]
  },
  {
   "cell_type": "markdown",
   "id": "c15b8eb2-6303-4fdd-9e3a-9edf601f5316",
   "metadata": {},
   "source": [
    "## 提高要求"
   ]
  },
  {
   "cell_type": "markdown",
   "id": "33752638-af11-4d4a-be7f-e7d239b9373f",
   "metadata": {},
   "source": [
    "<font size=4>\n",
    "采用旋转等手段对原始数据进行处理，扩增数据量，采用CNN实现手写体识别\n",
    "</font>"
   ]
  },
  {
   "cell_type": "code",
   "execution_count": 7,
   "id": "5cd5cad2-ffc6-4455-a138-f6dd4f7bdb0d",
   "metadata": {},
   "outputs": [],
   "source": [
    "# 采用旋转手段对原始数据进行处理，扩增数据量，采用CNN实现手写体识别\n",
    "def cnn(data_table):\n",
    "    # 提取特征（前255列）和标签（最后一列）\n",
    "    X = data_table[:, :256]     # 特征\n",
    "    y = data_table[:, 256]      # 标签\n",
    "\n",
    "    # 数据预处理\n",
    "    y = to_categorical(y, num_classes=10)  # 将类别进行独热编码\n",
    "    # 划分训练集和测试集\n",
    "    X_train, X_test, y_train, y_test = train_test_split(X, y, test_size=0.2, random_state=42)\n",
    "\n",
    "    # 将特征向量重塑为图像形式\n",
    "    X_train_images = X_train.reshape(X_train.shape[0], 16, 16, 1)\n",
    "    X_test_images = X_test.reshape(X_test.shape[0], 16, 16, 1)\n",
    "\n",
    "    # 创建ImageDataGenerator对象并应用旋转操作\n",
    "    datagen = ImageDataGenerator(rotation_range=20)\n",
    "    datagen.fit(X_train_images)\n",
    "\n",
    "    # 扩增训练数据\n",
    "    augmented_data = datagen.flow(X_train_images, y_train, batch_size=X_train.shape[0], shuffle=False)\n",
    "\n",
    "    # 获取扩增后的数据\n",
    "    X_train_augmented, y_train_augmented = augmented_data.next()\n",
    "\n",
    "    # 定义CNN模型\n",
    "    model = Sequential()\n",
    "    model.add(Conv2D(32, kernel_size=(3, 3), activation='relu', input_shape=(16, 16, 1)))\n",
    "    model.add(MaxPooling2D(pool_size=(2, 2)))\n",
    "    model.add(Conv2D(64, kernel_size=(3, 3), activation='relu'))\n",
    "    model.add(MaxPooling2D(pool_size=(2, 2)))\n",
    "    model.add(Flatten())\n",
    "    model.add(Dense(128, activation='relu'))\n",
    "    model.add(Dense(10, activation='softmax'))  # 共有10个类别\n",
    "\n",
    "    # 编译模型\n",
    "    model.compile(loss='categorical_crossentropy', optimizer=Adam(), metrics=['accuracy'])\n",
    "\n",
    "    # 训练模型\n",
    "    history = model.fit(X_train_augmented, y_train_augmented, batch_size=64, epochs=30,\n",
    "                        validation_data=(X_test_images, y_test))\n",
    "\n",
    "    # 评估模型\n",
    "    test_loss, test_acc = model.evaluate(X_test_images, y_test)\n",
    "\n",
    "    print(f\" 损失值: {test_loss}, 准确率: {test_acc}\")"
   ]
  },
  {
   "cell_type": "markdown",
   "id": "083db8e3-0d41-4371-ace1-d665522bce76",
   "metadata": {},
   "source": [
    "<font size=4>\n",
    "实验结果：\n",
    "</font>"
   ]
  },
  {
   "cell_type": "code",
   "execution_count": 8,
   "id": "65f4a24f-018e-4a5b-950b-950f2457193e",
   "metadata": {},
   "outputs": [
    {
     "name": "stdout",
     "output_type": "stream",
     "text": [
      "Epoch 1/30\n",
      "20/20 [==============================] - 1s 15ms/step - loss: 2.1035 - accuracy: 0.3556 - val_loss: 1.7072 - val_accuracy: 0.5643\n",
      "Epoch 2/30\n",
      "20/20 [==============================] - 0s 8ms/step - loss: 1.4118 - accuracy: 0.5903 - val_loss: 1.0139 - val_accuracy: 0.7085\n",
      "Epoch 3/30\n",
      "20/20 [==============================] - 0s 8ms/step - loss: 0.9398 - accuracy: 0.6931 - val_loss: 0.7687 - val_accuracy: 0.7774\n",
      "Epoch 4/30\n",
      "20/20 [==============================] - 0s 9ms/step - loss: 0.7497 - accuracy: 0.7630 - val_loss: 0.6017 - val_accuracy: 0.8213\n",
      "Epoch 5/30\n",
      "20/20 [==============================] - 0s 8ms/step - loss: 0.6323 - accuracy: 0.7936 - val_loss: 0.5198 - val_accuracy: 0.8276\n",
      "Epoch 6/30\n",
      "20/20 [==============================] - 0s 9ms/step - loss: 0.5239 - accuracy: 0.8312 - val_loss: 0.4506 - val_accuracy: 0.8746\n",
      "Epoch 7/30\n",
      "20/20 [==============================] - 0s 8ms/step - loss: 0.4977 - accuracy: 0.8477 - val_loss: 0.3789 - val_accuracy: 0.8746\n",
      "Epoch 8/30\n",
      "20/20 [==============================] - 0s 9ms/step - loss: 0.4088 - accuracy: 0.8713 - val_loss: 0.3491 - val_accuracy: 0.8966\n",
      "Epoch 9/30\n",
      "20/20 [==============================] - 0s 9ms/step - loss: 0.3689 - accuracy: 0.8838 - val_loss: 0.3914 - val_accuracy: 0.8840\n",
      "Epoch 10/30\n",
      "20/20 [==============================] - 0s 9ms/step - loss: 0.3441 - accuracy: 0.8885 - val_loss: 0.3635 - val_accuracy: 0.9028\n",
      "Epoch 11/30\n",
      "20/20 [==============================] - 0s 9ms/step - loss: 0.3113 - accuracy: 0.8995 - val_loss: 0.3108 - val_accuracy: 0.9091\n",
      "Epoch 12/30\n",
      "20/20 [==============================] - 0s 8ms/step - loss: 0.2610 - accuracy: 0.9215 - val_loss: 0.3156 - val_accuracy: 0.9060\n",
      "Epoch 13/30\n",
      "20/20 [==============================] - 0s 8ms/step - loss: 0.2299 - accuracy: 0.9372 - val_loss: 0.2959 - val_accuracy: 0.9122\n",
      "Epoch 14/30\n",
      "20/20 [==============================] - 0s 9ms/step - loss: 0.2210 - accuracy: 0.9427 - val_loss: 0.4287 - val_accuracy: 0.8621\n",
      "Epoch 15/30\n",
      "20/20 [==============================] - 0s 9ms/step - loss: 0.2175 - accuracy: 0.9317 - val_loss: 0.2865 - val_accuracy: 0.9122\n",
      "Epoch 16/30\n",
      "20/20 [==============================] - 0s 10ms/step - loss: 0.1827 - accuracy: 0.9451 - val_loss: 0.2740 - val_accuracy: 0.9185\n",
      "Epoch 17/30\n",
      "20/20 [==============================] - 0s 9ms/step - loss: 0.1703 - accuracy: 0.9490 - val_loss: 0.2902 - val_accuracy: 0.9185\n",
      "Epoch 18/30\n",
      "20/20 [==============================] - 0s 9ms/step - loss: 0.1446 - accuracy: 0.9615 - val_loss: 0.3184 - val_accuracy: 0.9060\n",
      "Epoch 19/30\n",
      "20/20 [==============================] - 0s 9ms/step - loss: 0.1351 - accuracy: 0.9631 - val_loss: 0.2545 - val_accuracy: 0.9248\n",
      "Epoch 20/30\n",
      "20/20 [==============================] - 0s 8ms/step - loss: 0.1211 - accuracy: 0.9694 - val_loss: 0.2555 - val_accuracy: 0.9342\n",
      "Epoch 21/30\n",
      "20/20 [==============================] - 0s 8ms/step - loss: 0.1085 - accuracy: 0.9733 - val_loss: 0.2748 - val_accuracy: 0.9122\n",
      "Epoch 22/30\n",
      "20/20 [==============================] - 0s 8ms/step - loss: 0.1004 - accuracy: 0.9749 - val_loss: 0.2262 - val_accuracy: 0.9373\n",
      "Epoch 23/30\n",
      "20/20 [==============================] - 0s 9ms/step - loss: 0.0911 - accuracy: 0.9772 - val_loss: 0.3349 - val_accuracy: 0.8997\n",
      "Epoch 24/30\n",
      "20/20 [==============================] - 0s 9ms/step - loss: 0.0750 - accuracy: 0.9851 - val_loss: 0.2914 - val_accuracy: 0.9185\n",
      "Epoch 25/30\n",
      "20/20 [==============================] - 0s 9ms/step - loss: 0.0616 - accuracy: 0.9882 - val_loss: 0.2652 - val_accuracy: 0.9216\n",
      "Epoch 26/30\n",
      "20/20 [==============================] - 0s 9ms/step - loss: 0.0595 - accuracy: 0.9874 - val_loss: 0.2619 - val_accuracy: 0.9185\n",
      "Epoch 27/30\n",
      "20/20 [==============================] - 0s 8ms/step - loss: 0.0549 - accuracy: 0.9906 - val_loss: 0.2436 - val_accuracy: 0.9373\n",
      "Epoch 28/30\n",
      "20/20 [==============================] - 0s 10ms/step - loss: 0.0469 - accuracy: 0.9937 - val_loss: 0.3328 - val_accuracy: 0.9060\n",
      "Epoch 29/30\n",
      "20/20 [==============================] - 0s 9ms/step - loss: 0.0493 - accuracy: 0.9922 - val_loss: 0.2631 - val_accuracy: 0.9310\n",
      "Epoch 30/30\n",
      "20/20 [==============================] - 0s 9ms/step - loss: 0.0365 - accuracy: 0.9984 - val_loss: 0.2393 - val_accuracy: 0.9373\n",
      "10/10 [==============================] - 0s 3ms/step - loss: 0.2393 - accuracy: 0.9373\n",
      " 损失值: 0.23930761218070984, 准确率: 0.9373040795326233\n"
     ]
    }
   ],
   "source": [
    "cnn(data_table)"
   ]
  },
  {
   "cell_type": "code",
   "execution_count": null,
   "id": "2420d628-44d2-47df-914b-e0a2a1eb7e94",
   "metadata": {},
   "outputs": [],
   "source": []
  }
 ],
 "metadata": {
  "kernelspec": {
   "display_name": "Python 3 (ipykernel)",
   "language": "python",
   "name": "python3"
  },
  "language_info": {
   "codemirror_mode": {
    "name": "ipython",
    "version": 3
   },
   "file_extension": ".py",
   "mimetype": "text/x-python",
   "name": "python",
   "nbconvert_exporter": "python",
   "pygments_lexer": "ipython3",
   "version": "3.10.10"
  }
 },
 "nbformat": 4,
 "nbformat_minor": 5
}
